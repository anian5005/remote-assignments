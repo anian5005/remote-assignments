{
 "cells": [
  {
   "cell_type": "code",
   "execution_count": 1,
   "id": "afc1f342",
   "metadata": {},
   "outputs": [],
   "source": [
    "def find_max(array):\n",
    "    max = array[0]\n",
    "    for y in array:\n",
    "        if y > max:\n",
    "            max=y\n",
    "    return max"
   ]
  },
  {
   "cell_type": "code",
   "execution_count": 2,
   "id": "8976c49a",
   "metadata": {},
   "outputs": [
    {
     "name": "stdout",
     "output_type": "stream",
     "text": [
      "5\n",
      "7\n"
     ]
    }
   ],
   "source": [
    "#test\n",
    "print(find_max([1, 2, 4, 5]) ); # should print 5\n",
    "print(find_max([5, 2, 7, 1, 6]) ); # should print 7\n"
   ]
  },
  {
   "cell_type": "code",
   "execution_count": 3,
   "id": "478e75c1",
   "metadata": {},
   "outputs": [],
   "source": [
    "def find_position(array, num):\n",
    "    pos=-1\n",
    "    target=num\n",
    "    loop=0\n",
    "    for x in array:\n",
    "        if x!=target:\n",
    "            loop=loop+1\n",
    "        else:\n",
    "            pos=loop\n",
    "            return pos\n",
    "            break\n",
    "    if pos==-1:\n",
    "        return pos"
   ]
  },
  {
   "cell_type": "code",
   "execution_count": 4,
   "id": "200c161e",
   "metadata": {},
   "outputs": [
    {
     "name": "stdout",
     "output_type": "stream",
     "text": [
      "0\n",
      "2\n",
      "2\n",
      "-1\n"
     ]
    }
   ],
   "source": [
    "#test\n",
    "print(find_position([5, 2, 7, 1, 6], 5)) # should print 0\n",
    "print(find_position([5, 2, 7, 1, 6], 7)) # should print 2\n",
    "print(find_position([5, 2, 7, 7, 7, 1, 6], 7)) # should print 2 (the first one)\n",
    "print(find_position([5, 2, 7, 1, 6], 8)) # should print -1"
   ]
  },
  {
   "cell_type": "code",
   "execution_count": null,
   "id": "c39e5b83",
   "metadata": {},
   "outputs": [],
   "source": []
  }
 ],
 "metadata": {
  "kernelspec": {
   "display_name": "Python 3 (ipykernel)",
   "language": "python",
   "name": "python3"
  },
  "language_info": {
   "codemirror_mode": {
    "name": "ipython",
    "version": 3
   },
   "file_extension": ".py",
   "mimetype": "text/x-python",
   "name": "python",
   "nbconvert_exporter": "python",
   "pygments_lexer": "ipython3",
   "version": "3.9.7"
  }
 },
 "nbformat": 4,
 "nbformat_minor": 5
}
